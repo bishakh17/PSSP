{
 "cells": [
  {
   "cell_type": "code",
   "execution_count": 1,
   "metadata": {},
   "outputs": [
    {
     "name": "stdout",
     "output_type": "stream",
     "text": [
      "Downloading protein-secondary-structure.zip to /Users/bdboy/Desktop/Projects/PSSP/data\n",
      "100%|██████████████████████████████████████| 38.8M/38.8M [00:06<00:00, 6.22MB/s]\n",
      "100%|██████████████████████████████████████| 38.8M/38.8M [00:06<00:00, 6.04MB/s]\n",
      "Archive:  protein-secondary-structure.zip\n",
      "  inflating: 2018-06-06-pdb-intersect-pisces.csv  \n",
      "  inflating: 2018-06-06-ss.cleaned.csv  \n"
     ]
    }
   ],
   "source": [
    "!kaggle datasets download -d alfrandom/protein-secondary-structure\n",
    "!unzip protein-secondary-structure.zip\n",
    "!rm -rf protein-secondary-structure.zip\n",
    "!mkdir dataset\n",
    "!mv 2018-06-06-pdb-intersect-pisces.csv dataset/2018-06-06-pdb-intersect-pisces.csv\n",
    "!mv 2018-06-06-ss.cleaned.csv dataset/2018-06-06-ss.cleaned.csv"
   ]
  },
  {
   "cell_type": "code",
   "execution_count": null,
   "metadata": {},
   "outputs": [],
   "source": []
  }
 ],
 "metadata": {
  "kernelspec": {
   "display_name": ".venv",
   "language": "python",
   "name": "python3"
  },
  "language_info": {
   "codemirror_mode": {
    "name": "ipython",
    "version": 3
   },
   "file_extension": ".py",
   "mimetype": "text/x-python",
   "name": "python",
   "nbconvert_exporter": "python",
   "pygments_lexer": "ipython3",
   "version": "3.8.16"
  }
 },
 "nbformat": 4,
 "nbformat_minor": 2
}
